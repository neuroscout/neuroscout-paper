{
 "cells": [
  {
   "cell_type": "code",
   "execution_count": 1,
   "metadata": {},
   "outputs": [
    {
     "name": "stderr",
     "output_type": "stream",
     "text": [
      "/home/alejandro/anaconda3/lib/python3.7/site-packages/nilearn/datasets/__init__.py:90: FutureWarning: Fetchers from the nilearn.datasets module will be updated in version 0.9 to return python strings instead of bytes and Pandas dataframes instead of Numpy arrays.\n",
      "  \"Numpy arrays.\", FutureWarning)\n"
     ]
    }
   ],
   "source": [
    "from tools.create import create_set_models\n",
    "from tools.base import (dump_collection, load_collection, \n",
    "                        flatten_collection, compute_metrics,\n",
    "                        _extract_regressors)\n",
    "from tools.viz import (plot_regressor, plot_regressor,\n",
    "                       plot_metrics, plot_contrast_by_dataset, plot_contrast_by_analysis,\n",
    "                       plot_analysis_grid)\n",
    "from pyns import Neuroscout\n",
    "import numpy as np\n",
    "from matplotlib import pyplot as plt\n",
    "from pathlib import Path\n",
    "%matplotlib inline"
   ]
  },
  {
   "cell_type": "code",
   "execution_count": 14,
   "metadata": {},
   "outputs": [],
   "source": [
    "predictors = [\n",
    "    ['as-Music', 'speech'],\n",
    "    ['as-Music', 'speech', 'rms']\n",
    "]"
   ]
  },
  {
   "cell_type": "code",
   "execution_count": 3,
   "metadata": {},
   "outputs": [],
   "source": [
    "confounds = ['a_comp_cor_00', 'a_comp_cor_01', 'a_comp_cor_02', 'a_comp_cor_03', 'a_comp_cor_04', 'a_comp_cor_05', 'trans_x', 'trans_y', 'trans_z', 'rot_x', 'rot_y', 'rot_z']"
   ]
  },
  {
   "cell_type": "code",
   "execution_count": 10,
   "metadata": {},
   "outputs": [],
   "source": [
    "filename = Path('models') / 'audioset_speech.json'"
   ]
  },
  {
   "cell_type": "markdown",
   "metadata": {},
   "source": [
    "## Create models"
   ]
  },
  {
   "cell_type": "code",
   "execution_count": 11,
   "metadata": {
    "scrolled": true
   },
   "outputs": [
    {
     "name": "stdout",
     "output_type": "stream",
     "text": [
      "Dataset: NaturalisticNeuroimagingDatabase, Task: 12yearsaslave, Predictors: ['as-Music'] Not all named predictors could be found for the specified runs.\n",
      "Dataset: NaturalisticNeuroimagingDatabase, Task: 500daysofsummer, Predictors: ['as-Music'] Not all named predictors could be found for the specified runs.\n",
      "Dataset: NaturalisticNeuroimagingDatabase, Task: backtothefuture, Predictors: ['as-Music'] Not all named predictors could be found for the specified runs.\n",
      "Dataset: NaturalisticNeuroimagingDatabase, Task: citizenfour, Predictors: ['as-Music'] Not all named predictors could be found for the specified runs.\n",
      "Dataset: NaturalisticNeuroimagingDatabase, Task: littlemisssunshine, Predictors: ['as-Music'] Not all named predictors could be found for the specified runs.\n",
      "Dataset: NaturalisticNeuroimagingDatabase, Task: pulpfiction, Predictors: ['as-Music'] Not all named predictors could be found for the specified runs.\n",
      "Dataset: NaturalisticNeuroimagingDatabase, Task: split, Predictors: ['as-Music'] Not all named predictors could be found for the specified runs.\n",
      "Dataset: NaturalisticNeuroimagingDatabase, Task: theprestige, Predictors: ['as-Music'] Not all named predictors could be found for the specified runs.\n",
      "Dataset: NaturalisticNeuroimagingDatabase, Task: theshawshankredemption, Predictors: ['as-Music'] Not all named predictors could be found for the specified runs.\n",
      "Dataset: NaturalisticNeuroimagingDatabase, Task: theusualsuspects, Predictors: ['as-Music'] Not all named predictors could be found for the specified runs.\n",
      "Dataset: ReadingBrainProject, Task: read, Predictors: ['as-Music'] Not all named predictors could be found for the specified runs.\n",
      "Dataset: studyforrest, Task: movie, Predictors: ['as-Music', 'speech'] Not all named predictors could be found for the specified runs.\n",
      "Dataset: narratives, Task: notthefalllongscram, Predictors: ['as-Music', 'speech'] Not all named predictors could be found for the specified runs.\n",
      "Dataset: narratives, Task: notthefallshortscram, Predictors: ['as-Music', 'speech'] Not all named predictors could be found for the specified runs.\n",
      "Dataset: narratives, Task: prettymouth, Predictors: ['as-Music', 'speech'] Not all named predictors could be found for the specified runs.\n",
      "Dataset: NaturalisticNeuroimagingDatabase, Task: 12yearsaslave, Predictors: ['as-Music', 'speech'] Not all named predictors could be found for the specified runs.\n",
      "Dataset: NaturalisticNeuroimagingDatabase, Task: 500daysofsummer, Predictors: ['as-Music', 'speech'] Not all named predictors could be found for the specified runs.\n",
      "Dataset: NaturalisticNeuroimagingDatabase, Task: backtothefuture, Predictors: ['as-Music', 'speech'] Not all named predictors could be found for the specified runs.\n",
      "Dataset: NaturalisticNeuroimagingDatabase, Task: citizenfour, Predictors: ['as-Music', 'speech'] Not all named predictors could be found for the specified runs.\n",
      "Dataset: NaturalisticNeuroimagingDatabase, Task: littlemisssunshine, Predictors: ['as-Music', 'speech'] Not all named predictors could be found for the specified runs.\n",
      "Dataset: NaturalisticNeuroimagingDatabase, Task: pulpfiction, Predictors: ['as-Music', 'speech'] Not all named predictors could be found for the specified runs.\n",
      "Dataset: NaturalisticNeuroimagingDatabase, Task: split, Predictors: ['as-Music', 'speech'] Not all named predictors could be found for the specified runs.\n",
      "Dataset: NaturalisticNeuroimagingDatabase, Task: theprestige, Predictors: ['as-Music', 'speech'] Not all named predictors could be found for the specified runs.\n",
      "Dataset: NaturalisticNeuroimagingDatabase, Task: theshawshankredemption, Predictors: ['as-Music', 'speech'] Not all named predictors could be found for the specified runs.\n",
      "Dataset: NaturalisticNeuroimagingDatabase, Task: theusualsuspects, Predictors: ['as-Music', 'speech'] Not all named predictors could be found for the specified runs.\n",
      "Dataset: ReadingBrainProject, Task: read, Predictors: ['as-Music', 'speech'] Not all named predictors could be found for the specified runs.\n",
      "Dataset: studyforrest, Task: movie, Predictors: ['as-Music', 'speech', 'rms'] Not all named predictors could be found for the specified runs.\n",
      "Dataset: narratives, Task: notthefalllongscram, Predictors: ['as-Music', 'speech', 'rms'] Not all named predictors could be found for the specified runs.\n",
      "Dataset: narratives, Task: notthefallshortscram, Predictors: ['as-Music', 'speech', 'rms'] Not all named predictors could be found for the specified runs.\n",
      "Dataset: narratives, Task: prettymouth, Predictors: ['as-Music', 'speech', 'rms'] Not all named predictors could be found for the specified runs.\n",
      "Dataset: NaturalisticNeuroimagingDatabase, Task: 12yearsaslave, Predictors: ['as-Music', 'speech', 'rms'] Not all named predictors could be found for the specified runs.\n",
      "Dataset: NaturalisticNeuroimagingDatabase, Task: 500daysofsummer, Predictors: ['as-Music', 'speech', 'rms'] Not all named predictors could be found for the specified runs.\n",
      "Dataset: NaturalisticNeuroimagingDatabase, Task: backtothefuture, Predictors: ['as-Music', 'speech', 'rms'] Not all named predictors could be found for the specified runs.\n",
      "Dataset: NaturalisticNeuroimagingDatabase, Task: citizenfour, Predictors: ['as-Music', 'speech', 'rms'] Not all named predictors could be found for the specified runs.\n",
      "Dataset: NaturalisticNeuroimagingDatabase, Task: littlemisssunshine, Predictors: ['as-Music', 'speech', 'rms'] Not all named predictors could be found for the specified runs.\n",
      "Dataset: NaturalisticNeuroimagingDatabase, Task: pulpfiction, Predictors: ['as-Music', 'speech', 'rms'] Not all named predictors could be found for the specified runs.\n",
      "Dataset: NaturalisticNeuroimagingDatabase, Task: split, Predictors: ['as-Music', 'speech', 'rms'] Not all named predictors could be found for the specified runs.\n",
      "Dataset: NaturalisticNeuroimagingDatabase, Task: theprestige, Predictors: ['as-Music', 'speech', 'rms'] Not all named predictors could be found for the specified runs.\n",
      "Dataset: NaturalisticNeuroimagingDatabase, Task: theshawshankredemption, Predictors: ['as-Music', 'speech', 'rms'] Not all named predictors could be found for the specified runs.\n",
      "Dataset: NaturalisticNeuroimagingDatabase, Task: theusualsuspects, Predictors: ['as-Music', 'speech', 'rms'] Not all named predictors could be found for the specified runs.\n",
      "Dataset: ReadingBrainProject, Task: read, Predictors: ['as-Music', 'speech', 'rms'] Not all named predictors could be found for the specified runs.\n"
     ]
    }
   ],
   "source": [
    "mdict = {}\n",
    "for pset in predictors:\n",
    "   mdict['+'.join(pset)] = create_set_models(pset, confounds, name='+'.join(pset))"
   ]
  },
  {
   "cell_type": "code",
   "execution_count": null,
   "metadata": {},
   "outputs": [],
   "source": [
    "mdict = load_collection(filename)"
   ]
  },
  {
   "cell_type": "code",
   "execution_count": 17,
   "metadata": {},
   "outputs": [],
   "source": [
    "# dump_collection(mdict, filename)"
   ]
  },
  {
   "cell_type": "markdown",
   "metadata": {},
   "source": [
    "## Compile models"
   ]
  },
  {
   "cell_type": "code",
   "execution_count": 25,
   "metadata": {
    "scrolled": true
   },
   "outputs": [],
   "source": [
    "# for (pred, dataset, task), model in flatten_collection(mdict):\n",
    "#     if model.get_status()['status'] in 'DRAFT':\n",
    "#         model.private = False\n",
    "#         model.push()\n",
    "#         model.compile()\n",
    "#     else:\n",
    "#         print(f'{dataset}, {model.status}, {model.hash_id}')"
   ]
  },
  {
   "cell_type": "markdown",
   "metadata": {},
   "source": [
    "## Run"
   ]
  },
  {
   "cell_type": "code",
   "execution_count": 39,
   "metadata": {},
   "outputs": [
    {
     "data": {
      "text/plain": [
       "'46mhv gatj4 98qmy hmgfu ht8vo 58pdc sbwoj r77h7 5pbbh jouzm ao98v nu7uc m9owg jjhen 4y3qd 9h32k 5mhv2'"
      ]
     },
     "execution_count": 39,
     "metadata": {},
     "output_type": "execute_result"
    }
   ],
   "source": [
    "# Finished\n",
    "' '.join([m.hash_id for (_, dataset, task), m in flatten_collection(mdict) \n",
    "          if m.get_status()['status'] == 'PASSED' and m.get_uploads()])"
   ]
  },
  {
   "cell_type": "code",
   "execution_count": 40,
   "metadata": {},
   "outputs": [
    {
     "data": {
      "text/plain": [
       "'r9332 4bbcw jquzx gkzrz avetv d9k8z ec878 7gugt 9ooc9 6fdbe gmrzq'"
      ]
     },
     "execution_count": 40,
     "metadata": {},
     "output_type": "execute_result"
    }
   ],
   "source": [
    "' '.join([m.hash_id for (_, dataset, task), m in flatten_collection(mdict) \n",
    "          if m.get_status()['status'] == 'PASSED' and not m.get_uploads() and\n",
    "          len(m.runs) < 30])"
   ]
  },
  {
   "cell_type": "code",
   "execution_count": 43,
   "metadata": {},
   "outputs": [
    {
     "data": {
      "text/plain": [
       "'ftzqw adm7z iacpd bf72e dkogc q8h5y eqf36 iu727 pwfki ankg2 i5k85 bcm5e 8x7tu bk8id'"
      ]
     },
     "execution_count": 43,
     "metadata": {},
     "output_type": "execute_result"
    }
   ],
   "source": [
    "' '.join([m.hash_id for (_, dataset, task), m in flatten_collection(mdict) \n",
    "          if m.get_status()['status'] == 'PASSED' and not m.get_uploads() and\n",
    "          len(m.runs) < 90 and len(m.runs) > 30])"
   ]
  },
  {
   "cell_type": "code",
   "execution_count": 38,
   "metadata": {},
   "outputs": [
    {
     "data": {
      "text/plain": [
       "{'as-Music+speech': {'studyforrest': {},\n",
       "  'Raiders': {'raiders': <Analysis hash_id=ht8vo name=as-Music+speech dataset_id=10>},\n",
       "  'SchematicNarrative': {'perception': <Analysis hash_id=58pdc name=as-Music+speech dataset_id=20>},\n",
       "  'SherlockMerlin': {'MerlinMovie': <Analysis hash_id=r77h7 name=as-Music+speech dataset_id=5>,\n",
       "   'SherlockMovie': <Analysis hash_id=5pbbh name=as-Music+speech dataset_id=5>},\n",
       "  'Sherlock': {'sherlockPart1': <Analysis hash_id=sbwoj name=as-Music+speech dataset_id=21>},\n",
       "  'narratives': {'black': <Analysis hash_id=jouzm name=as-Music+speech dataset_id=30>,\n",
       "   'bronx': <Analysis hash_id=ao98v name=as-Music+speech dataset_id=30>,\n",
       "   'forgot': <Analysis hash_id=nu7uc name=as-Music+speech dataset_id=30>,\n",
       "   'lucy': <Analysis hash_id=4bbcw name=as-Music+speech dataset_id=30>,\n",
       "   'merlin': <Analysis hash_id=m9owg name=as-Music+speech dataset_id=30>,\n",
       "   'notthefallintact': <Analysis hash_id=jjhen name=as-Music+speech dataset_id=30>,\n",
       "   'pieman': <Analysis hash_id=juto6 name=as-Music+speech dataset_id=30>,\n",
       "   'piemanpni': <Analysis hash_id=4y3qd name=as-Music+speech dataset_id=30>,\n",
       "   'schema': <Analysis hash_id=9h32k name=as-Music+speech dataset_id=30>,\n",
       "   'shapesphysical': <Analysis hash_id=5mhv2 name=as-Music+speech dataset_id=30>,\n",
       "   'shapessocial': <Analysis hash_id=ftzqw name=as-Music+speech dataset_id=30>,\n",
       "   'sherlock': <Analysis hash_id=adm7z name=as-Music+speech dataset_id=30>,\n",
       "   'slumlordreach': <Analysis hash_id=jquzx name=as-Music+speech dataset_id=30>,\n",
       "   'tunnel': <Analysis hash_id=gkzrz name=as-Music+speech dataset_id=30>,\n",
       "   '21styear': <Analysis hash_id=r9332 name=as-Music+speech dataset_id=30>},\n",
       "  'Life': {'life': <Analysis hash_id=98qmy name=as-Music+speech dataset_id=9>},\n",
       "  'ParanoiaStory': {'story': <Analysis hash_id=hmgfu name=as-Music+speech dataset_id=18>},\n",
       "  'LearningTemporalStructure': {'movie': <Analysis hash_id=gatj4 name=as-Music+speech dataset_id=19>},\n",
       "  'Budapest': {'movie': <Analysis hash_id=46mhv name=as-Music+speech dataset_id=27>},\n",
       "  'NaturalisticNeuroimagingDatabase': {},\n",
       "  'ReadingBrainProject': {}},\n",
       " 'as-Music+speech+rms': {'studyforrest': {},\n",
       "  'Raiders': {'raiders': <Analysis hash_id=dkogc name=as-Music+speech+rms dataset_id=10>},\n",
       "  'SchematicNarrative': {'perception': <Analysis hash_id=ro9iz name=as-Music+speech+rms dataset_id=20>},\n",
       "  'SherlockMerlin': {'MerlinMovie': <Analysis hash_id=d9k8z name=as-Music+speech+rms dataset_id=5>,\n",
       "   'SherlockMovie': <Analysis hash_id=ec878 name=as-Music+speech+rms dataset_id=5>},\n",
       "  'Sherlock': {'sherlockPart1': <Analysis hash_id=avetv name=as-Music+speech+rms dataset_id=21>},\n",
       "  'narratives': {'black': <Analysis hash_id=q8h5y name=as-Music+speech+rms dataset_id=30>,\n",
       "   'bronx': <Analysis hash_id=eqf36 name=as-Music+speech+rms dataset_id=30>,\n",
       "   'forgot': <Analysis hash_id=iu727 name=as-Music+speech+rms dataset_id=30>,\n",
       "   'lucy': <Analysis hash_id=9ooc9 name=as-Music+speech+rms dataset_id=30>,\n",
       "   'merlin': <Analysis hash_id=pwfki name=as-Music+speech+rms dataset_id=30>,\n",
       "   'notthefallintact': <Analysis hash_id=ankg2 name=as-Music+speech+rms dataset_id=30>,\n",
       "   'pieman': <Analysis hash_id=owdrs name=as-Music+speech+rms dataset_id=30>,\n",
       "   'piemanpni': <Analysis hash_id=i5k85 name=as-Music+speech+rms dataset_id=30>,\n",
       "   'schema': <Analysis hash_id=7iaw6 name=as-Music+speech+rms dataset_id=30>,\n",
       "   'shapesphysical': <Analysis hash_id=bcm5e name=as-Music+speech+rms dataset_id=30>,\n",
       "   'shapessocial': <Analysis hash_id=8x7tu name=as-Music+speech+rms dataset_id=30>,\n",
       "   'sherlock': <Analysis hash_id=bk8id name=as-Music+speech+rms dataset_id=30>,\n",
       "   'slumlordreach': <Analysis hash_id=6fdbe name=as-Music+speech+rms dataset_id=30>,\n",
       "   'tunnel': <Analysis hash_id=gmrzq name=as-Music+speech+rms dataset_id=30>,\n",
       "   '21styear': <Analysis hash_id=7gugt name=as-Music+speech+rms dataset_id=30>},\n",
       "  'Life': {'life': <Analysis hash_id=iacpd name=as-Music+speech+rms dataset_id=9>},\n",
       "  'ParanoiaStory': {'story': <Analysis hash_id=bf72e name=as-Music+speech+rms dataset_id=18>},\n",
       "  'LearningTemporalStructure': {'movie': <Analysis hash_id=rcdpb name=as-Music+speech+rms dataset_id=19>},\n",
       "  'Budapest': {'movie': <Analysis hash_id=ap9nw name=as-Music+speech+rms dataset_id=27>},\n",
       "  'NaturalisticNeuroimagingDatabase': {},\n",
       "  'ReadingBrainProject': {}}}"
      ]
     },
     "execution_count": 38,
     "metadata": {},
     "output_type": "execute_result"
    }
   ],
   "source": [
    "mdict"
   ]
  },
  {
   "cell_type": "code",
   "execution_count": null,
   "metadata": {},
   "outputs": [],
   "source": []
  }
 ],
 "metadata": {
  "kernelspec": {
   "display_name": "Python 3",
   "language": "python",
   "name": "python3"
  },
  "language_info": {
   "codemirror_mode": {
    "name": "ipython",
    "version": 3
   },
   "file_extension": ".py",
   "mimetype": "text/x-python",
   "name": "python",
   "nbconvert_exporter": "python",
   "pygments_lexer": "ipython3",
   "version": "3.7.3"
  }
 },
 "nbformat": 4,
 "nbformat_minor": 2
}
