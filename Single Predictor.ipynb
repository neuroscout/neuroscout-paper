{
 "cells": [
  {
   "cell_type": "markdown",
   "metadata": {},
   "source": [
    "# Single predictor models\n",
    "Single predictor models investigating the effect of a range of lower- and higher-level visual and auditory predictors."
   ]
  },
  {
   "cell_type": "code",
   "execution_count": 1,
   "metadata": {},
   "outputs": [],
   "source": [
    "%load_ext autoreload\n",
    "%autoreload 2"
   ]
  },
  {
   "cell_type": "code",
   "execution_count": 2,
   "metadata": {},
   "outputs": [
    {
     "name": "stderr",
     "output_type": "stream",
     "text": [
      "/home/zorro/anaconda3/lib/python3.8/site-packages/nilearn/datasets/__init__.py:87: FutureWarning: Fetchers from the nilearn.datasets module will be updated in version 0.9 to return python strings instead of bytes and Pandas dataframes instead of Numpy arrays.\n",
      "  warn(\"Fetchers from the nilearn.datasets module will be \"\n"
     ]
    }
   ],
   "source": [
    "from tools.create import create_single_models\n",
    "from tools.base import (dump_collection, load_collection, \n",
    "                        flatten_collection, compute_metrics,\n",
    "                        _extract_regressors)\n",
    "from tools.viz import (plot_regressor, plot_contrast,\n",
    "                       plot_metrics, plot_contrast_by_dataset, plot_contrast_by_analysis,\n",
    "                       plot_analysis_grid, plot_individual_analyses)\n",
    "from pyns import Neuroscout\n",
    "import numpy as np\n",
    "from matplotlib import pyplot as plt\n",
    "from pathlib import Path\n",
    "%matplotlib inline"
   ]
  },
  {
   "cell_type": "code",
   "execution_count": 3,
   "metadata": {},
   "outputs": [],
   "source": [
    "api = Neuroscout()"
   ]
  },
  {
   "cell_type": "code",
   "execution_count": 4,
   "metadata": {},
   "outputs": [],
   "source": [
    "api._api_token"
   ]
  },
  {
   "cell_type": "markdown",
   "metadata": {},
   "source": [
    "## Define predictors and confounds"
   ]
  },
  {
   "cell_type": "code",
   "execution_count": 5,
   "metadata": {},
   "outputs": [],
   "source": [
    "predictors = ['speech', 'rms', 'text',\n",
    "              'brightness', 'shot_change', \n",
    "              'any_faces', \n",
    "              'hand', 'action', 'landscape', 'building', 'indoors', 'city', \n",
    "              'animal', 'music', 'vehicle', 'water', 'wood', 'tool', \n",
    "              'people']"
   ]
  },
  {
   "cell_type": "code",
   "execution_count": 6,
   "metadata": {},
   "outputs": [],
   "source": [
    "confounds = ['a_comp_cor_00', 'a_comp_cor_01', 'a_comp_cor_02', 'a_comp_cor_03', 'a_comp_cor_04', 'a_comp_cor_05', 'trans_x', 'trans_y', 'trans_z', 'rot_x', 'rot_y', 'rot_z']"
   ]
  },
  {
   "cell_type": "markdown",
   "metadata": {},
   "source": [
    "## Create models"
   ]
  },
  {
   "cell_type": "code",
   "execution_count": 7,
   "metadata": {
    "tags": []
   },
   "outputs": [],
   "source": [
    "#single_models = create_single_models(predictors, confounds)"
   ]
  },
  {
   "cell_type": "code",
   "execution_count": 8,
   "metadata": {},
   "outputs": [],
   "source": [
    "filename = Path('models') / 'single_predictor.json'"
   ]
  },
  {
   "cell_type": "code",
   "execution_count": 9,
   "metadata": {},
   "outputs": [],
   "source": [
    "# dump_collection(single_models, filename)"
   ]
  },
  {
   "cell_type": "code",
   "execution_count": 10,
   "metadata": {},
   "outputs": [],
   "source": [
    "single_models = load_collection(filename)"
   ]
  },
  {
   "cell_type": "code",
   "execution_count": 11,
   "metadata": {},
   "outputs": [
    {
     "data": {
      "text/plain": [
       "{'speech': {'Sherlock': {'sherlockPart1': <Analysis hash_id=wK3Op name=speech dataset_id=21>},\n",
       "  'HealthyBrainNetwork': {'movieDM': <Analysis hash_id=AobKG name=speech dataset_id=8>},\n",
       "  'SherlockMerlin': {'MerlinMovie': <Analysis hash_id=Ar6VO name=speech dataset_id=5>,\n",
       "   'SherlockMovie': <Analysis hash_id=MzqbZ name=speech dataset_id=5>},\n",
       "  'Life': {'life': <Analysis hash_id=Adp4e name=speech dataset_id=9>},\n",
       "  'Raiders': {'raiders': <Analysis hash_id=M8LX1 name=speech dataset_id=10>},\n",
       "  'SchematicNarrative': {'perception': <Analysis hash_id=AVr83 name=speech dataset_id=20>},\n",
       "  'studyforrest': {},\n",
       "  'ParanoiaStory': {'story': <Analysis hash_id=A1GkD name=speech dataset_id=18>},\n",
       "  'LearningTemporalStructure': {'movie': <Analysis hash_id=MNQ0q name=speech dataset_id=19>},\n",
       "  'Budapest': {'movie': <Analysis hash_id=w0gBX name=speech dataset_id=27>}},\n",
       " 'rms': {'Sherlock': {'sherlockPart1': <Analysis hash_id=MXmd3 name=rms dataset_id=21>},\n",
       "  'HealthyBrainNetwork': {'movieDM': <Analysis hash_id=AbnRy name=rms dataset_id=8>},\n",
       "  'SherlockMerlin': {'MerlinMovie': <Analysis hash_id=MnPpP name=rms dataset_id=5>,\n",
       "   'SherlockMovie': <Analysis hash_id=wWV8y name=rms dataset_id=5>},\n",
       "  'Life': {'life': <Analysis hash_id=9EWBK name=rms dataset_id=9>},\n",
       "  'Raiders': {'raiders': <Analysis hash_id=MGbQj name=rms dataset_id=10>},\n",
       "  'SchematicNarrative': {'perception': <Analysis hash_id=AqbR8 name=rms dataset_id=20>},\n",
       "  'studyforrest': {'movie': <Analysis hash_id=Maqy1 name=rms dataset_id=11>},\n",
       "  'ParanoiaStory': {'story': <Analysis hash_id=wjv20 name=rms dataset_id=18>},\n",
       "  'LearningTemporalStructure': {'movie': <Analysis hash_id=9Lq1z name=rms dataset_id=19>},\n",
       "  'Budapest': {'movie': <Analysis hash_id=wK2Np name=rms dataset_id=27>}},\n",
       " 'text': {'Sherlock': {'sherlockPart1': <Analysis hash_id=AxkEK name=text dataset_id=21>},\n",
       "  'HealthyBrainNetwork': {'movieDM': <Analysis hash_id=wJJo4 name=text dataset_id=8>},\n",
       "  'SherlockMerlin': {'MerlinMovie': <Analysis hash_id=M34zo name=text dataset_id=5>,\n",
       "   'SherlockMovie': <Analysis hash_id=AYX8e name=text dataset_id=5>},\n",
       "  'Life': {'life': <Analysis hash_id=9BbP5 name=text dataset_id=9>},\n",
       "  'Raiders': {'raiders': <Analysis hash_id=MDzYd name=text dataset_id=10>},\n",
       "  'SchematicNarrative': {'perception': <Analysis hash_id=wQo1d name=text dataset_id=20>},\n",
       "  'studyforrest': {'movie': <Analysis hash_id=w0vpX name=text dataset_id=11>},\n",
       "  'ParanoiaStory': {},\n",
       "  'LearningTemporalStructure': {'movie': <Analysis hash_id=wK3vp name=text dataset_id=19>},\n",
       "  'Budapest': {'movie': <Analysis hash_id=AopLG name=text dataset_id=27>}},\n",
       " 'brightness': {'Sherlock': {'sherlockPart1': <Analysis hash_id=AobEG name=brightness dataset_id=21>},\n",
       "  'HealthyBrainNetwork': {'movieDM': <Analysis hash_id=A6m1k name=brightness dataset_id=8>},\n",
       "  'SherlockMerlin': {'MerlinMovie': <Analysis hash_id=wly2W name=brightness dataset_id=5>,\n",
       "   'SherlockMovie': <Analysis hash_id=AxkE1 name=brightness dataset_id=5>},\n",
       "  'Life': {'life': <Analysis hash_id=wJJoe name=brightness dataset_id=9>},\n",
       "  'Raiders': {'raiders': <Analysis hash_id=M34zR name=brightness dataset_id=10>},\n",
       "  'SchematicNarrative': {'perception': <Analysis hash_id=AYX8P name=brightness dataset_id=20>},\n",
       "  'studyforrest': {'movie': <Analysis hash_id=9BbPN name=brightness dataset_id=11>},\n",
       "  'ParanoiaStory': {},\n",
       "  'LearningTemporalStructure': {'movie': <Analysis hash_id=MDzYD name=brightness dataset_id=19>},\n",
       "  'Budapest': {'movie': <Analysis hash_id=Arq4O name=brightness dataset_id=27>}},\n",
       " 'shot_change': {'Sherlock': {'sherlockPart1': <Analysis hash_id=wQo3W name=shot_change dataset_id=21>},\n",
       "  'HealthyBrainNetwork': {'movieDM': <Analysis hash_id=w0vPv name=shot_change dataset_id=8>},\n",
       "  'SherlockMerlin': {'MerlinMovie': <Analysis hash_id=wK3V2 name=shot_change dataset_id=5>,\n",
       "   'SherlockMovie': <Analysis hash_id=AobXB name=shot_change dataset_id=5>},\n",
       "  'Life': {'life': <Analysis hash_id=Ar6N0 name=shot_change dataset_id=9>},\n",
       "  'Raiders': {'raiders': <Analysis hash_id=MzqP1 name=shot_change dataset_id=10>},\n",
       "  'SchematicNarrative': {'perception': <Analysis hash_id=Adpkx name=shot_change dataset_id=20>},\n",
       "  'studyforrest': {'movie': <Analysis hash_id=M8Lpl name=shot_change dataset_id=11>},\n",
       "  'ParanoiaStory': {},\n",
       "  'LearningTemporalStructure': {'movie': <Analysis hash_id=AVr0K name=shot_change dataset_id=19>},\n",
       "  'Budapest': {'movie': <Analysis hash_id=MzQpZ name=shot_change dataset_id=27>}},\n",
       " 'any_faces': {'Sherlock': {'sherlockPart1': <Analysis hash_id=A1GoO name=any_faces dataset_id=21>},\n",
       "  'HealthyBrainNetwork': {'movieDM': <Analysis hash_id=wOVxB name=any_faces dataset_id=8>},\n",
       "  'SherlockMerlin': {'MerlinMovie': <Analysis hash_id=MXmod name=any_faces dataset_id=5>,\n",
       "   'SherlockMovie': <Analysis hash_id=AbnkR name=any_faces dataset_id=5>},\n",
       "  'Life': {},\n",
       "  'Raiders': {'raiders': <Analysis hash_id=MnPXX name=any_faces dataset_id=10>},\n",
       "  'SchematicNarrative': {'perception': <Analysis hash_id=wWVKQ name=any_faces dataset_id=20>},\n",
       "  'studyforrest': {'movie': <Analysis hash_id=9EWVr name=any_faces dataset_id=11>},\n",
       "  'ParanoiaStory': {},\n",
       "  'LearningTemporalStructure': {'movie': <Analysis hash_id=MGbVD name=any_faces dataset_id=19>},\n",
       "  'Budapest': {}},\n",
       " 'hand': {'Sherlock': {'sherlockPart1': <Analysis hash_id=Aqbq3 name=hand dataset_id=21>},\n",
       "  'HealthyBrainNetwork': {'movieDM': <Analysis hash_id=Maqmb name=hand dataset_id=8>},\n",
       "  'SherlockMerlin': {'MerlinMovie': <Analysis hash_id=wjv7m name=hand dataset_id=5>,\n",
       "   'SherlockMovie': <Analysis hash_id=9LqeK name=hand dataset_id=5>},\n",
       "  'Life': {'life': <Analysis hash_id=97v1Q name=hand dataset_id=9>},\n",
       "  'Raiders': {'raiders': <Analysis hash_id=wkKRD name=hand dataset_id=10>},\n",
       "  'SchematicNarrative': {'perception': <Analysis hash_id=M4ndy name=hand dataset_id=20>},\n",
       "  'studyforrest': {'movie': <Analysis hash_id=A2YrP name=hand dataset_id=11>},\n",
       "  'ParanoiaStory': {},\n",
       "  'LearningTemporalStructure': {'movie': <Analysis hash_id=MNWl0 name=hand dataset_id=19>},\n",
       "  'Budapest': {'movie': <Analysis hash_id=AdR1e name=hand dataset_id=27>}},\n",
       " 'action': {'Sherlock': {'sherlockPart1': <Analysis hash_id=M5Qpn name=action dataset_id=21>},\n",
       "  'HealthyBrainNetwork': {'movieDM': <Analysis hash_id=9eKPb name=action dataset_id=8>},\n",
       "  'SherlockMerlin': {'MerlinMovie': <Analysis hash_id=AZy5W name=action dataset_id=5>,\n",
       "   'SherlockMovie': <Analysis hash_id=Mvb7R name=action dataset_id=5>},\n",
       "  'Life': {'life': <Analysis hash_id=MmvkX name=action dataset_id=9>},\n",
       "  'Raiders': {'raiders': <Analysis hash_id=Mp8Xj name=action dataset_id=10>},\n",
       "  'SchematicNarrative': {'perception': <Analysis hash_id=wyD7W name=action dataset_id=20>},\n",
       "  'studyforrest': {'movie': <Analysis hash_id=MR2Yb name=action dataset_id=11>},\n",
       "  'ParanoiaStory': {},\n",
       "  'LearningTemporalStructure': {'movie': <Analysis hash_id=wgjG0 name=action dataset_id=19>},\n",
       "  'Budapest': {'movie': <Analysis hash_id=M8vd1 name=action dataset_id=27>}},\n",
       " 'landscape': {'Sherlock': {'sherlockPart1': <Analysis hash_id=MPKJL name=landscape dataset_id=21>},\n",
       "  'HealthyBrainNetwork': {'movieDM': <Analysis hash_id=A6m5k name=landscape dataset_id=8>},\n",
       "  'SherlockMerlin': {'MerlinMovie': <Analysis hash_id=wly7W name=landscape dataset_id=5>,\n",
       "   'SherlockMovie': <Analysis hash_id=Axk71 name=landscape dataset_id=5>},\n",
       "  'Life': {'life': <Analysis hash_id=wJJ1e name=landscape dataset_id=9>},\n",
       "  'Raiders': {'raiders': <Analysis hash_id=M34dR name=landscape dataset_id=10>},\n",
       "  'SchematicNarrative': {'perception': <Analysis hash_id=AYXrP name=landscape dataset_id=20>},\n",
       "  'studyforrest': {'movie': <Analysis hash_id=9BbON name=landscape dataset_id=11>},\n",
       "  'ParanoiaStory': {},\n",
       "  'LearningTemporalStructure': {'movie': <Analysis hash_id=MDzgD name=landscape dataset_id=19>},\n",
       "  'Budapest': {'movie': <Analysis hash_id=AVjJ3 name=landscape dataset_id=27>}},\n",
       " 'building': {'Sherlock': {'sherlockPart1': <Analysis hash_id=wQoxW name=building dataset_id=21>},\n",
       "  'HealthyBrainNetwork': {'movieDM': <Analysis hash_id=w0vov name=building dataset_id=8>},\n",
       "  'SherlockMerlin': {'MerlinMovie': <Analysis hash_id=wK3W2 name=building dataset_id=5>,\n",
       "   'SherlockMovie': <Analysis hash_id=Aob3B name=building dataset_id=5>},\n",
       "  'Life': {'life': <Analysis hash_id=Ar6D0 name=building dataset_id=9>},\n",
       "  'Raiders': {'raiders': <Analysis hash_id=Mzql1 name=building dataset_id=10>},\n",
       "  'SchematicNarrative': {'perception': <Analysis hash_id=AdpDx name=building dataset_id=20>},\n",
       "  'studyforrest': {'movie': <Analysis hash_id=M8LYl name=building dataset_id=11>},\n",
       "  'ParanoiaStory': {},\n",
       "  'LearningTemporalStructure': {'movie': <Analysis hash_id=AVrDK name=building dataset_id=19>},\n",
       "  'Budapest': {'movie': <Analysis hash_id=A13DD name=building dataset_id=27>}},\n",
       " 'indoors': {'Sherlock': {'sherlockPart1': <Analysis hash_id=A1GPO name=indoors dataset_id=21>},\n",
       "  'HealthyBrainNetwork': {'movieDM': <Analysis hash_id=wOV6B name=indoors dataset_id=8>},\n",
       "  'SherlockMerlin': {'MerlinMovie': <Analysis hash_id=MXm0d name=indoors dataset_id=5>,\n",
       "   'SherlockMovie': <Analysis hash_id=AbnYR name=indoors dataset_id=5>},\n",
       "  'Life': {'life': <Analysis hash_id=MnPJX name=indoors dataset_id=9>},\n",
       "  'Raiders': {'raiders': <Analysis hash_id=wWVQQ name=indoors dataset_id=10>},\n",
       "  'SchematicNarrative': {'perception': <Analysis hash_id=9EWXr name=indoors dataset_id=20>},\n",
       "  'studyforrest': {'movie': <Analysis hash_id=MGbeD name=indoors dataset_id=11>},\n",
       "  'ParanoiaStory': {},\n",
       "  'LearningTemporalStructure': {'movie': <Analysis hash_id=AqbB3 name=indoors dataset_id=19>},\n",
       "  'Budapest': {'movie': <Analysis hash_id=wOOv3 name=indoors dataset_id=27>}},\n",
       " 'city': {'Sherlock': {'sherlockPart1': <Analysis hash_id=Maq3b name=city dataset_id=21>},\n",
       "  'HealthyBrainNetwork': {'movieDM': <Analysis hash_id=wjvzm name=city dataset_id=8>},\n",
       "  'SherlockMerlin': {'MerlinMovie': <Analysis hash_id=9LqXK name=city dataset_id=5>,\n",
       "   'SherlockMovie': <Analysis hash_id=97v3Q name=city dataset_id=5>},\n",
       "  'Life': {'life': <Analysis hash_id=wkK6D name=city dataset_id=9>},\n",
       "  'Raiders': {'raiders': <Analysis hash_id=M4nly name=city dataset_id=10>},\n",
       "  'SchematicNarrative': {'perception': <Analysis hash_id=A2YzP name=city dataset_id=20>},\n",
       "  'studyforrest': {'movie': <Analysis hash_id=MNWX0 name=city dataset_id=11>},\n",
       "  'ParanoiaStory': {},\n",
       "  'LearningTemporalStructure': {'movie': <Analysis hash_id=M5Qxn name=city dataset_id=19>},\n",
       "  'Budapest': {'movie': <Analysis hash_id=MXjY3 name=city dataset_id=27>}},\n",
       " 'animal': {'HealthyBrainNetwork': {'movieDM': <Analysis hash_id=MpDX5 name=animal dataset_id=8>},\n",
       "  'SchematicNarrative': {'perception': <Analysis hash_id=wy27p name=animal dataset_id=20>},\n",
       "  'studyforrest': {'movie': <Analysis hash_id=MRaYy name=animal dataset_id=11>},\n",
       "  'Raiders': {'raiders': <Analysis hash_id=wgyGL name=animal dataset_id=10>},\n",
       "  'Life': {'life': <Analysis hash_id=MPqJ4 name=animal dataset_id=9>},\n",
       "  'ParanoiaStory': {},\n",
       "  'Sherlock': {'sherlockPart1': <Analysis hash_id=A6oJv name=animal dataset_id=21>},\n",
       "  'SherlockMerlin': {'MerlinMovie': <Analysis hash_id=wl8Py name=animal dataset_id=5>,\n",
       "   'SherlockMovie': <Analysis hash_id=AxBzB name=animal dataset_id=5>},\n",
       "  'LearningTemporalStructure': {'movie': <Analysis hash_id=wJ3PG name=animal dataset_id=19>},\n",
       "  'Budapest': {'movie': <Analysis hash_id=AbqEy name=animal dataset_id=27>}},\n",
       " 'music': {'HealthyBrainNetwork': {'movieDM': <Analysis hash_id=M376v name=music dataset_id=8>},\n",
       "  'SchematicNarrative': {'perception': <Analysis hash_id=AYyKz name=music dataset_id=20>},\n",
       "  'studyforrest': {'movie': <Analysis hash_id=9Bqnv name=music dataset_id=11>},\n",
       "  'Raiders': {'raiders': <Analysis hash_id=MD1vN name=music dataset_id=10>},\n",
       "  'Life': {'life': <Analysis hash_id=wQDxq name=music dataset_id=9>},\n",
       "  'ParanoiaStory': {},\n",
       "  'Sherlock': {'sherlockPart1': <Analysis hash_id=w0go1 name=music dataset_id=21>},\n",
       "  'SherlockMerlin': {'MerlinMovie': <Analysis hash_id=wK2Wx name=music dataset_id=5>,\n",
       "   'SherlockMovie': <Analysis hash_id=Aop3K name=music dataset_id=5>},\n",
       "  'LearningTemporalStructure': {'movie': <Analysis hash_id=A6oJ1 name=music dataset_id=19>},\n",
       "  'Budapest': {'movie': <Analysis hash_id=MnkeP name=music dataset_id=27>}},\n",
       " 'vehicle': {'HealthyBrainNetwork': {'movieDM': <Analysis hash_id=wl8P7 name=vehicle dataset_id=8>},\n",
       "  'SchematicNarrative': {'perception': <Analysis hash_id=AxBzz name=vehicle dataset_id=20>},\n",
       "  'studyforrest': {'movie': <Analysis hash_id=wJ3Px name=vehicle dataset_id=11>},\n",
       "  'Raiders': {'raiders': <Analysis hash_id=M376J name=vehicle dataset_id=10>},\n",
       "  'Life': {'life': <Analysis hash_id=AYyKg name=vehicle dataset_id=9>},\n",
       "  'ParanoiaStory': {},\n",
       "  'Sherlock': {'sherlockPart1': <Analysis hash_id=9BqnV name=vehicle dataset_id=21>},\n",
       "  'SherlockMerlin': {'MerlinMovie': <Analysis hash_id=MD1vE name=vehicle dataset_id=5>,\n",
       "   'SherlockMovie': <Analysis hash_id=wQDx8 name=vehicle dataset_id=5>},\n",
       "  'LearningTemporalStructure': {'movie': <Analysis hash_id=w0gol name=vehicle dataset_id=19>},\n",
       "  'Budapest': {'movie': <Analysis hash_id=wWyry name=vehicle dataset_id=27>}},\n",
       " 'water': {'HealthyBrainNetwork': {'movieDM': <Analysis hash_id=wK2WX name=water dataset_id=8>},\n",
       "  'SchematicNarrative': {'perception': <Analysis hash_id=Aop36 name=water dataset_id=20>},\n",
       "  'studyforrest': {'movie': <Analysis hash_id=ArqDR name=water dataset_id=11>},\n",
       "  'Raiders': {'raiders': <Analysis hash_id=MzQlJ name=water dataset_id=10>},\n",
       "  'Life': {'life': <Analysis hash_id=AdRDV name=water dataset_id=9>},\n",
       "  'ParanoiaStory': {},\n",
       "  'Sherlock': {'sherlockPart1': <Analysis hash_id=M8vY4 name=water dataset_id=21>},\n",
       "  'SherlockMerlin': {'MerlinMovie': <Analysis hash_id=AVjDO name=water dataset_id=5>,\n",
       "   'SherlockMovie': <Analysis hash_id=A13PN name=water dataset_id=5>},\n",
       "  'LearningTemporalStructure': {'movie': <Analysis hash_id=wOO65 name=water dataset_id=19>},\n",
       "  'Budapest': {'movie': <Analysis hash_id=9EdZK name=water dataset_id=27>}},\n",
       " 'wood': {'HealthyBrainNetwork': {'movieDM': <Analysis hash_id=MXj0J name=wood dataset_id=8>},\n",
       "  'SchematicNarrative': {'perception': <Analysis hash_id=AbqY4 name=wood dataset_id=20>},\n",
       "  'studyforrest': {'movie': <Analysis hash_id=MnkJ8 name=wood dataset_id=11>},\n",
       "  'Raiders': {'raiders': <Analysis hash_id=wWyQZ name=wood dataset_id=10>},\n",
       "  'Life': {'life': <Analysis hash_id=9EdX1 name=wood dataset_id=9>},\n",
       "  'ParanoiaStory': {},\n",
       "  'Sherlock': {'sherlockPart1': <Analysis hash_id=MGveo name=wood dataset_id=21>},\n",
       "  'SherlockMerlin': {'MerlinMovie': <Analysis hash_id=AqQBj name=wood dataset_id=5>,\n",
       "   'SherlockMovie': <Analysis hash_id=Ma432 name=wood dataset_id=5>},\n",
       "  'LearningTemporalStructure': {'movie': <Analysis hash_id=wjNzL name=wood dataset_id=19>},\n",
       "  'Budapest': {'movie': <Analysis hash_id=MGvmj name=wood dataset_id=27>}},\n",
       " 'tool': {'HealthyBrainNetwork': {'movieDM': <Analysis hash_id=9L2XR name=tool dataset_id=8>},\n",
       "  'SchematicNarrative': {'perception': <Analysis hash_id=97p3z name=tool dataset_id=20>},\n",
       "  'studyforrest': {'movie': <Analysis hash_id=wkV62 name=tool dataset_id=11>},\n",
       "  'Raiders': {'raiders': <Analysis hash_id=M4jlO name=tool dataset_id=10>},\n",
       "  'Life': {'life': <Analysis hash_id=A2542 name=tool dataset_id=9>},\n",
       "  'ParanoiaStory': {},\n",
       "  'Sherlock': {'sherlockPart1': <Analysis hash_id=MNQBW name=tool dataset_id=21>},\n",
       "  'SherlockMerlin': {'MerlinMovie': <Analysis hash_id=M5545 name=tool dataset_id=5>,\n",
       "   'SherlockMovie': <Analysis hash_id=9ey74 name=tool dataset_id=5>},\n",
       "  'LearningTemporalStructure': {'movie': <Analysis hash_id=AZ47m name=tool dataset_id=19>},\n",
       "  'Budapest': {'movie': <Analysis hash_id=MnkYP name=tool dataset_id=27>}},\n",
       " 'people': {'HealthyBrainNetwork': {'movieDM': <Analysis hash_id=AZ4qk name=people dataset_id=8>},\n",
       "  'SchematicNarrative': {'perception': <Analysis hash_id=Mv382 name=people dataset_id=20>},\n",
       "  'studyforrest': {'movie': <Analysis hash_id=Mm3BB name=people dataset_id=11>},\n",
       "  'Raiders': {'raiders': <Analysis hash_id=MpDP5 name=people dataset_id=10>},\n",
       "  'Life': {'life': <Analysis hash_id=wy2Op name=people dataset_id=9>},\n",
       "  'ParanoiaStory': {},\n",
       "  'Sherlock': {'sherlockPart1': <Analysis hash_id=MRa1y name=people dataset_id=21>},\n",
       "  'SherlockMerlin': {'MerlinMovie': <Analysis hash_id=wgy6L name=people dataset_id=5>,\n",
       "   'SherlockMovie': <Analysis hash_id=MPq84 name=people dataset_id=5>},\n",
       "  'LearningTemporalStructure': {'movie': <Analysis hash_id=A6o8v name=people dataset_id=19>},\n",
       "  'Budapest': {'movie': <Analysis hash_id=9Ed0K name=people dataset_id=27>}}}"
      ]
     },
     "execution_count": 11,
     "metadata": {},
     "output_type": "execute_result"
    }
   ],
   "source": [
    "single_models"
   ]
  },
  {
   "cell_type": "code",
   "execution_count": 115,
   "metadata": {},
   "outputs": [],
   "source": [
    "# Single predictor models with all runs/tasks in the same model\n",
    "nnd_single_combined_path = Path('models') / 'single_predictor_nnd_comined.json'\n",
    "# dump_collection(single_models_nnd_combined, nnd_single_combined_path)\n",
    "single_models_nnd_combined = load_collection(nnd_single_combined_path)"
   ]
  },
  {
   "cell_type": "code",
   "execution_count": 20,
   "metadata": {},
   "outputs": [],
   "source": [
    "nnd_single_path = Path('models') / 'single_predictor_nnd.json'"
   ]
  },
  {
   "cell_type": "code",
   "execution_count": 21,
   "metadata": {},
   "outputs": [],
   "source": [
    "# nnd_single_models = create_single_models(predictors,  datasets={'NaturalisticNeuroimagingDatabase': {'id': 28, 'tasks': ['12yearsaslave', '500daysofsummer', 'backtothefuture', 'citizenfour', 'littlemisssunshine', 'pulpfiction', 'split', 'theprestige', 'theshawshankredemption', 'theusualsuspects']}})"
   ]
  },
  {
   "cell_type": "code",
   "execution_count": 22,
   "metadata": {},
   "outputs": [],
   "source": [
    "# dump_collection(nnd_single_models, nnd_single_path)\n",
    "# nnd_single_models = load_collection(nnd_single_path)"
   ]
  },
  {
   "cell_type": "markdown",
   "metadata": {},
   "source": [
    "## Generate reports"
   ]
  },
  {
   "cell_type": "code",
   "execution_count": 14,
   "metadata": {},
   "outputs": [],
   "source": [
    "for (pred, dataset, task), model in flatten_collection(nnd_single_models):\n",
    "    model.generate_report(run_id=model.runs[0])"
   ]
  },
  {
   "cell_type": "markdown",
   "metadata": {},
   "source": [
    "## Inspect regressors"
   ]
  },
  {
   "cell_type": "code",
   "execution_count": null,
   "metadata": {},
   "outputs": [],
   "source": [
    "df = _extract_regressors(single_models)"
   ]
  },
  {
   "cell_type": "code",
   "execution_count": null,
   "metadata": {},
   "outputs": [],
   "source": [
    "plot_regressor_distribution(df=df, split_by='hue', color=None, aspect=3, hist=None, rug=True)"
   ]
  },
  {
   "cell_type": "code",
   "execution_count": null,
   "metadata": {},
   "outputs": [],
   "source": [
    "plot_regressor_timeseries(df=df, split_by='row', height=1.2, aspect=10)"
   ]
  },
  {
   "cell_type": "code",
   "execution_count": null,
   "metadata": {},
   "outputs": [],
   "source": [
    "agg_df = compute_metrics(df=df, aggfunc=[np.mean, np.std, np.var])"
   ]
  },
  {
   "cell_type": "code",
   "execution_count": null,
   "metadata": {},
   "outputs": [],
   "source": [
    "plot_metrics(agg_df, metrics=['mean', 'std', 'var'],\n",
    "             sns_function='barplot', height=3, aspect=1)"
   ]
  },
  {
   "cell_type": "markdown",
   "metadata": {},
   "source": [
    "## Compile models"
   ]
  },
  {
   "cell_type": "code",
   "execution_count": 116,
   "metadata": {
    "tags": []
   },
   "outputs": [],
   "source": [
    "# for (pred, dataset, task), model in flatten_collection(nnd_single_models):\n",
    "#     if model.get_status()['status'] == 'DRAFT':\n",
    "#         model.private = False\n",
    "#         model.push()\n",
    "#         model.compile()\n",
    "#     else:\n",
    "#         print(f'{pred} {model.status} for {dataset}')"
   ]
  },
  {
   "cell_type": "markdown",
   "metadata": {},
   "source": [
    "## Results"
   ]
  },
  {
   "cell_type": "code",
   "execution_count": 117,
   "metadata": {},
   "outputs": [],
   "source": [
    "flat_models = flatten_collection(single_models_nnd_combined)"
   ]
  },
  {
   "cell_type": "code",
   "execution_count": 120,
   "metadata": {
    "scrolled": false
   },
   "outputs": [
    {
     "name": "stdout",
     "output_type": "stream",
     "text": [
      "No image for NaturalisticNeuroimagingDatabase-action-action\n",
      "No image for NaturalisticNeuroimagingDatabase-animal-animal\n",
      "No image for NaturalisticNeuroimagingDatabase-brightness-brightness\n",
      "No image for NaturalisticNeuroimagingDatabase-building-building\n",
      "No image for NaturalisticNeuroimagingDatabase-city-city\n",
      "No image for NaturalisticNeuroimagingDatabase-hand-hand\n",
      "No image for NaturalisticNeuroimagingDatabase-indoors-indoors\n",
      "No image for NaturalisticNeuroimagingDatabase-landscape-landscape\n",
      "No image for NaturalisticNeuroimagingDatabase-music-music\n",
      "No image for NaturalisticNeuroimagingDatabase-people-people\n",
      "No image for NaturalisticNeuroimagingDatabase-rms-rms\n",
      "No image for NaturalisticNeuroimagingDatabase-speech-speech\n",
      "No image for NaturalisticNeuroimagingDatabase-text-text\n",
      "No image for NaturalisticNeuroimagingDatabase-tool-tool\n",
      "No image for NaturalisticNeuroimagingDatabase-vehicle-vehicle\n",
      "No image for NaturalisticNeuroimagingDatabase-water-water\n",
      "No image for NaturalisticNeuroimagingDatabase-wood-wood\n"
     ]
    }
   ],
   "source": [
    "for (contrast, _), an in flat_models:\n",
    "    plot_contrast(contrast, an)"
   ]
  },
  {
   "cell_type": "code",
   "execution_count": null,
   "metadata": {},
   "outputs": [],
   "source": []
  }
 ],
 "metadata": {
  "kernelspec": {
   "display_name": "Python 3",
   "language": "python",
   "name": "python3"
  },
  "language_info": {
   "codemirror_mode": {
    "name": "ipython",
    "version": 3
   },
   "file_extension": ".py",
   "mimetype": "text/x-python",
   "name": "python",
   "nbconvert_exporter": "python",
   "pygments_lexer": "ipython3",
   "version": "3.8.5"
  }
 },
 "nbformat": 4,
 "nbformat_minor": 4
}
