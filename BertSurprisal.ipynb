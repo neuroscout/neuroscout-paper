{
 "cells": [
  {
   "cell_type": "markdown",
   "metadata": {},
   "source": [
    "# Bert Surprisal\n",
    "Single-predictor models with surprisal on BERT language model predictions"
   ]
  },
  {
   "cell_type": "code",
   "execution_count": 1,
   "metadata": {},
   "outputs": [],
   "source": [
    "%load_ext autoreload\n",
    "%autoreload 2"
   ]
  },
  {
   "cell_type": "code",
   "execution_count": 2,
   "metadata": {},
   "outputs": [],
   "source": [
    "%matplotlib inline\n",
    "from tools.create import create_single_models, create_set_models\n",
    "from tools.base import (dump_collection, load_collection, \n",
    "                        flatten_collection, compute_metrics,\n",
    "                        _extract_regressors)\n",
    "from pyns import Neuroscout\n",
    "import numpy as np\n",
    "from matplotlib import pyplot as plt\n",
    "from pathlib import Path\n",
    "from tools.viz import plot_contrast_by_analysis"
   ]
  },
  {
   "cell_type": "code",
   "execution_count": 3,
   "metadata": {},
   "outputs": [],
   "source": [
    "api = Neuroscout()"
   ]
  },
  {
   "cell_type": "markdown",
   "metadata": {},
   "source": [
    "## Create and compile"
   ]
  },
  {
   "cell_type": "code",
   "execution_count": 4,
   "metadata": {},
   "outputs": [],
   "source": [
    "transformations = [{\"Name\": \"Scale\", \n",
    "                    \"Demean\": True, \n",
    "                    \"Rescale\": True,\n",
    "                    \"ReplaceNA\": \"after\", \n",
    "                    \"Input\": [\"BERTLM_pre_25_surprisal\"]}]"
   ]
  },
  {
   "cell_type": "code",
   "execution_count": 5,
   "metadata": {},
   "outputs": [],
   "source": [
    "# Note that this will include cosine* and nonsteadstate* for all runs that fitlins finds them for, dynamically\n",
    "confounds = ['a_comp_cor_00', 'a_comp_cor_01', 'a_comp_cor_02', 'a_comp_cor_03', 'a_comp_cor_04', 'a_comp_cor_05', \n",
    "             'trans_x', 'trans_y', 'trans_z', 'rot_x', 'rot_y', 'rot_z']"
   ]
  },
  {
   "cell_type": "code",
   "execution_count": 6,
   "metadata": {},
   "outputs": [
    {
     "output_type": "stream",
     "name": "stdout",
     "text": "Dataset: SchematicNarrative, Predictors: BERTLM_pre_25_surprisal Not all named predictors could be found for the specified runs.\nDataset: studyforrest, Predictors: BERTLM_pre_25_surprisal Not all named predictors could be found for the specified runs.\nDataset: LearningTemporalStructure, Predictors: BERTLM_pre_25_surprisal Not all named predictors could be found for the specified runs.\n"
    }
   ],
   "source": [
    "single_models = create_single_models([\"BERTLM_pre_25_surprisal\"], confounds)"
   ]
  },
  {
   "cell_type": "code",
   "execution_count": 7,
   "metadata": {},
   "outputs": [],
   "source": [
    "dump_collection(single_models, 'models/bert_surprisal.json')"
   ]
  },
  {
   "cell_type": "code",
   "execution_count": 8,
   "metadata": {},
   "outputs": [],
   "source": [
    "single_models = load_collection('models/bert_surprisal.json')"
   ]
  },
  {
   "cell_type": "markdown",
   "metadata": {},
   "source": [
    "### Reports"
   ]
  },
  {
   "cell_type": "code",
   "execution_count": 18,
   "metadata": {},
   "outputs": [],
   "source": [
    "\"\"\" Run reports for all models \"\"\"\n",
    "for (pred, dataset, task), model in flatten_collection(single_models):\n",
    "    model.generate_report(run_id=model.runs[0])"
   ]
  },
  {
   "cell_type": "code",
   "execution_count": null,
   "metadata": {},
   "outputs": [],
   "source": [
    "# Plot example design matrix\n",
    "single_models['BERTLM_pre_25_surprisal']['SherlockMerlin']['SherlockMovie'].plot_report()"
   ]
  },
  {
   "cell_type": "markdown",
   "metadata": {},
   "source": [
    "### Compile"
   ]
  },
  {
   "cell_type": "code",
   "execution_count": 17,
   "metadata": {},
   "outputs": [
    {
     "output_type": "stream",
     "name": "stdout",
     "text": "PASSED\nHealthyBrainNetwork\nPASSED\nLife\nPASSED\nParanoiaStory\nPASSED\nRaiders\nPASSED\nSherlock\nPASSED\nSherlockMerlin\nPASSED\nSherlockMerlin\n"
    }
   ],
   "source": [
    "for (pred, dataset, task), model in flatten_collection(single_models):\n",
    "    if model.get_status()['status'] == 'DRAFT':\n",
    "        model.compile()\n",
    "    else:\n",
    "        print(f'{model.status}')\n",
    "        print(f'{dataset}')"
   ]
  },
  {
   "cell_type": "code",
   "execution_count": 13,
   "metadata": {},
   "outputs": [
    {
     "output_type": "stream",
     "name": "stdout",
     "text": "M8vGa A13mG wOO4O AVjY2 MXjDy Abq1g MnkxN\n"
    }
   ],
   "source": [
    "print(' '.join([model.hash_id for (pred, dataset, task), model in flatten_collection(single_models)]))"
   ]
  },
  {
   "cell_type": "markdown",
   "metadata": {},
   "source": [
    "## Results"
   ]
  },
  {
   "cell_type": "code",
   "execution_count": 54,
   "metadata": {},
   "outputs": [],
   "source": [
    "flat_models = flatten_collection(single_models)"
   ]
  },
  {
   "cell_type": "code",
   "execution_count": null,
   "metadata": {},
   "outputs": [],
   "source": [
    "plt.rcParams.update({'font.family': 'monospace'})\n",
    "plot_contrast_by_analysis(analyses=flat_models,\n",
    "                         contrasts=['BERTLM_pre_25_surprisal'],\n",
    "                         vmax=10, display_mode='z', figsize=(15,15),\n",
    "                         threshold=1.96, colorbar=False)"
   ]
  }
 ],
 "metadata": {
  "kernelspec": {
   "display_name": "Python 3",
   "language": "python",
   "name": "python3"
  },
  "language_info": {
   "codemirror_mode": {
    "name": "ipython",
    "version": 3
   },
   "file_extension": ".py",
   "mimetype": "text/x-python",
   "name": "python",
   "nbconvert_exporter": "python",
   "pygments_lexer": "ipython3",
   "version": "3.7.4-final"
  }
 },
 "nbformat": 4,
 "nbformat_minor": 4
}