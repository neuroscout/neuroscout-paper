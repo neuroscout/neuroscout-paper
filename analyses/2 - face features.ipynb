{
 "cells": [
  {
   "cell_type": "markdown",
   "metadata": {},
   "source": [
    "## FaceNet models\n",
    "Set of models investigating face perception:\n",
    "- single-predictor model with binary regressor coding for presence of any face (**any_faces**)\n",
    "- **any_faces** + **speech**\n",
    "- **any_faces** + **speech** + log of cumulative time the detected face has been on screen (mean across faces, **log_mean_face_time_cum**)"
   ]
  },
  {
   "cell_type": "code",
   "execution_count": 34,
   "metadata": {},
   "outputs": [],
   "source": [
    "from create import create_set_models\n",
    "from pyns import Neuroscout\n",
    "from matplotlib import pyplot as plt\n",
    "from pathlib import Path\n",
    "\n",
    "import sys\n",
    "sys.path.append(\"..\") \n",
    "from utils import dump_collection, load_collection\n",
    "\n",
    "%matplotlib inline"
   ]
  },
  {
   "cell_type": "code",
   "execution_count": 23,
   "metadata": {},
   "outputs": [],
   "source": [
    "api = Neuroscout()\n",
    "confounds = [\n",
    "    'a_comp_cor_00', 'a_comp_cor_01', 'a_comp_cor_02', 'a_comp_cor_03', 'a_comp_cor_04', 'a_comp_cor_05', \n",
    "    'trans_x', 'trans_y', 'trans_z', 'rot_x', 'rot_y', 'rot_z'\n",
    "]\n",
    "datasets = api.datasets.get() # Get all Neuroscout datasets"
   ]
  },
  {
   "cell_type": "code",
   "execution_count": 24,
   "metadata": {},
   "outputs": [],
   "source": [
    "filename = Path('models') / 'facenet.json'"
   ]
  },
  {
   "cell_type": "code",
   "execution_count": 25,
   "metadata": {},
   "outputs": [],
   "source": [
    "mdict = load_collection(filename)"
   ]
  },
  {
   "cell_type": "markdown",
   "metadata": {},
   "source": [
    "### any_faces + speech"
   ]
  },
  {
   "cell_type": "code",
   "execution_count": 26,
   "metadata": {},
   "outputs": [],
   "source": [
    "hrf_vars = ['any_faces', 'speech']\n",
    "name = '+'.join(hrf_vars)\n",
    "\n",
    "# mdict[name] = create_set_models(predictors=hrf_vars, datasets=datasets, confounds=confounds, name=name)"
   ]
  },
  {
   "cell_type": "code",
   "execution_count": 27,
   "metadata": {},
   "outputs": [],
   "source": [
    "# Compile analyses\n",
    "\n",
    "for analysis_dict in mdict[name]:\n",
    "    analysis = analysis_dict['analysis']\n",
    "    if analysis.get_status()['status'] in 'DRAFT':\n",
    "        analysis.compile()"
   ]
  },
  {
   "cell_type": "markdown",
   "metadata": {},
   "source": [
    "### any_faces + speech + face_time_cum"
   ]
  },
  {
   "cell_type": "code",
   "execution_count": 19,
   "metadata": {},
   "outputs": [],
   "source": [
    "hrf_vars = ['any_faces', 'speech', 'log_mean_face_time_cum']\n",
    "name = '+'.join(hrf_vars)\n",
    "\n",
    "# mdict[name] = create_set_models(predictors=hrf_vars, datasets=datasets, confounds=confounds, name=name)"
   ]
  },
  {
   "cell_type": "code",
   "execution_count": 28,
   "metadata": {},
   "outputs": [],
   "source": [
    "# Compile analyses\n",
    "\n",
    "for analysis_dict in mdict[name]:\n",
    "    analysis = analysis_dict['analysis']\n",
    "    if analysis.get_status()['status'] in 'DRAFT':\n",
    "        analysis.compile()"
   ]
  },
  {
   "cell_type": "code",
   "execution_count": 20,
   "metadata": {},
   "outputs": [],
   "source": [
    "# Save models out to file\n",
    "# dump_collection(mdict, filename)"
   ]
  }
 ],
 "metadata": {
  "kernelspec": {
   "display_name": "Python 3",
   "language": "python",
   "name": "python3"
  },
  "language_info": {
   "codemirror_mode": {
    "name": "ipython",
    "version": 3
   },
   "file_extension": ".py",
   "mimetype": "text/x-python",
   "name": "python",
   "nbconvert_exporter": "python",
   "pygments_lexer": "ipython3",
   "version": "3.7.3"
  }
 },
 "nbformat": 4,
 "nbformat_minor": 4
}
