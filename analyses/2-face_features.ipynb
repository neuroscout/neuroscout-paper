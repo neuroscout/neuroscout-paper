{
 "cells": [
  {
   "cell_type": "markdown",
   "metadata": {},
   "source": [
    "# 2) Face features (FaceNet) models\n",
    "\n",
    "Set of models investigating face perception:\n",
    "- single-predictor model with binary regressor coding for presence of any face (**any_faces**)\n",
    "- **any_faces** + **speech**\n",
    "- **any_faces** + **speech** + log of cumulative time the detected face has been on screen (mean across faces, **log_mean_face_time_cum**)"
   ]
  },
  {
   "cell_type": "code",
   "execution_count": 1,
   "metadata": {},
   "outputs": [
    {
     "name": "stderr",
     "output_type": "stream",
     "text": [
      "/home/alejandro/anaconda3/lib/python3.7/site-packages/nilearn/datasets/__init__.py:89: FutureWarning: Fetchers from the nilearn.datasets module will be updated in version 0.9 to return python strings instead of bytes and Pandas dataframes instead of Numpy arrays.\n",
      "  \"Numpy arrays.\", FutureWarning)\n"
     ]
    }
   ],
   "source": [
    "from create import create_models\n",
    "from pyns import Neuroscout\n",
    "from matplotlib import pyplot as plt\n",
    "from pathlib import Path\n",
    "\n",
    "import sys\n",
    "sys.path.append(\"..\") \n",
    "from utils import dump_collection, load_collection\n",
    "\n",
    "%matplotlib inline"
   ]
  },
  {
   "cell_type": "code",
   "execution_count": 2,
   "metadata": {},
   "outputs": [],
   "source": [
    "api = Neuroscout()\n",
    "confounds = [\n",
    "    'a_comp_cor_00', 'a_comp_cor_01', 'a_comp_cor_02', 'a_comp_cor_03', 'a_comp_cor_04', 'a_comp_cor_05', \n",
    "    'trans_x', 'trans_y', 'trans_z', 'rot_x', 'rot_y', 'rot_z'\n",
    "]\n",
    "datasets = api.datasets.get() # Get all Neuroscout datasets"
   ]
  },
  {
   "cell_type": "code",
   "execution_count": 3,
   "metadata": {},
   "outputs": [],
   "source": [
    "filename = Path('models') / 'facenet.json'"
   ]
  },
  {
   "cell_type": "code",
   "execution_count": 4,
   "metadata": {},
   "outputs": [],
   "source": [
    "models = load_collection(filename)"
   ]
  },
  {
   "cell_type": "markdown",
   "metadata": {},
   "source": [
    "### any_faces (only)"
   ]
  },
  {
   "cell_type": "markdown",
   "metadata": {},
   "source": [
    "We are using `create_models` which is a very simple function which uses Neuroscout's `pyNS` library to create "
   ]
  },
  {
   "cell_type": "code",
   "execution_count": 5,
   "metadata": {
    "scrolled": true
   },
   "outputs": [],
   "source": [
    "predictors = ['any_faces']\n",
    "name = '+'.join(predictors)\n",
    "\n",
    "# Uncomment to re-create\n",
    "# models[name] = create_models(name=name, predictors=hrf_vars, datasets=datasets, confounds=confounds)"
   ]
  },
  {
   "cell_type": "code",
   "execution_count": 6,
   "metadata": {},
   "outputs": [
    {
     "data": {
      "text/plain": [
       "<Analysis hash_id=M8vE1 name=any_faces dataset_id=27>"
      ]
     },
     "execution_count": 6,
     "metadata": {},
     "output_type": "execute_result"
    }
   ],
   "source": [
    "analysis = models[name][0]['analysis']\n",
    "analysis"
   ]
  },
  {
   "cell_type": "markdown",
   "metadata": {},
   "source": [
    "Generate a report for a random run (first one), to save time. Note that this order may change, and the order of runs is not guaranteed"
   ]
  },
  {
   "cell_type": "code",
   "execution_count": null,
   "metadata": {},
   "outputs": [],
   "source": [
    "analysis.generate_report(run_id=analysis.runs[0]) \n",
    "analysis.plot_report(plot_type='design_matrix_plot')"
   ]
  },
  {
   "cell_type": "code",
   "execution_count": 9,
   "metadata": {},
   "outputs": [],
   "source": [
    "# Compile analyses if still in DRAFT\n",
    "# for analysis_dict in models[name]:\n",
    "#     analysis = analysis_dict['analysis']\n",
    "#     if analysis.get_status()['status'] in 'DRAFT':\n",
    "#         analysis.compile()"
   ]
  },
  {
   "cell_type": "markdown",
   "metadata": {},
   "source": [
    "### any_faces + speech"
   ]
  },
  {
   "cell_type": "code",
   "execution_count": 10,
   "metadata": {},
   "outputs": [],
   "source": [
    "predictors = ['any_faces', 'speech']\n",
    "name = '+'.join(predictors)\n",
    "\n",
    "# Uncomment to re-create\n",
    "# models[name] = create_models(name=name, predictors=hrf_vars, datasets=datasets, confounds=confounds)"
   ]
  },
  {
   "cell_type": "code",
   "execution_count": 11,
   "metadata": {},
   "outputs": [
    {
     "data": {
      "text/plain": [
       "<Analysis hash_id=spcpc name=any_faces+speech dataset_id=10>"
      ]
     },
     "execution_count": 11,
     "metadata": {},
     "output_type": "execute_result"
    }
   ],
   "source": [
    "analysis = models[name][0]['analysis']\n",
    "analysis"
   ]
  },
  {
   "cell_type": "code",
   "execution_count": null,
   "metadata": {},
   "outputs": [],
   "source": [
    "analysis.generate_report(run_id=analysis.runs[0]) # Only generate for a single example run, to save time\n",
    "analysis.plot_report(plot_type='design_matrix_plot')"
   ]
  },
  {
   "cell_type": "code",
   "execution_count": 14,
   "metadata": {},
   "outputs": [],
   "source": [
    "# Compile analyses if still in DRAFT\n",
    "# for analysis_dict in models[name]:\n",
    "#     analysis = analysis_dict['analysis']\n",
    "#     if analysis.get_status()['status'] in 'DRAFT':\n",
    "#         analysis.compile()"
   ]
  },
  {
   "cell_type": "markdown",
   "metadata": {},
   "source": [
    "### any_faces + speech + face_time_cum"
   ]
  },
  {
   "cell_type": "code",
   "execution_count": 15,
   "metadata": {},
   "outputs": [],
   "source": [
    "predictors = ['any_faces', 'speech', 'log_mean_face_time_cum']\n",
    "name = '+'.join(predictors)\n",
    "\n",
    "# Uncomment to re-create\n",
    "# models[name] = create_models(name=name, predictors=predictors, datasets=datasets, confounds=confounds)"
   ]
  },
  {
   "cell_type": "code",
   "execution_count": null,
   "metadata": {},
   "outputs": [],
   "source": [
    "analysis = models[name][0]['analysis']\n",
    "analysis.generate_report(run_id=analysis.runs[0]) # Only generate for a single example run, to save time\n",
    "analysis.plot_report(plot_type='design_matrix_plot')"
   ]
  },
  {
   "cell_type": "code",
   "execution_count": 18,
   "metadata": {},
   "outputs": [],
   "source": [
    "# Compile analyses\n",
    "# for analysis_dict in models[name]:\n",
    "#     analysis = analysis_dict['analysis']\n",
    "#     if analysis.get_status()['status'] in 'DRAFT':\n",
    "#         analysis.compile()"
   ]
  },
  {
   "cell_type": "code",
   "execution_count": 19,
   "metadata": {},
   "outputs": [],
   "source": [
    "# Save models out to file\n",
    "# dump_collection(models, filename)"
   ]
  }
 ],
 "metadata": {
  "kernelspec": {
   "display_name": "Python 3",
   "language": "python",
   "name": "python3"
  },
  "language_info": {
   "codemirror_mode": {
    "name": "ipython",
    "version": 3
   },
   "file_extension": ".py",
   "mimetype": "text/x-python",
   "name": "python",
   "nbconvert_exporter": "python",
   "pygments_lexer": "ipython3",
   "version": "3.7.3"
  }
 },
 "nbformat": 4,
 "nbformat_minor": 4
}
